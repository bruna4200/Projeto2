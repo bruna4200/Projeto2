from sklearn.datasets import load_digits
from sklearn.model_selection import train_test_split
from sklearn.ensemble import RandomForestClassifier
from sklearn.metrics import accuracy_score

digits = load_digits()
X, y = digits.data, digits.target
X_train, X_test, y_train, y_test = train_test_split(X, y, test_size = 0.3, random_state = 42)
clf = RandomForestClassifier(max_depth = 80, random_state = 50)
clf.fit(X_test, y_test)
y_pred = clf.predict(X_test)
print(accuracy_score(y_test, y_pred)*100)