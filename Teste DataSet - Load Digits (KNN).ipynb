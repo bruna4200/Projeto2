from sklearn.datasets import load_digits
from sklearn.model_selection import train_test_split
from sklearn.metrics import accuracy_score
from sklearn.neighbors import KNeighborsClassifier
import matplotlib.pyplot as plt

digits = load_digits()
X, y = digits.data, digits.target
X_train, X_test, y_train, y_test = train_test_split(X, y, test_size = 0.3, random_state=42)
knn_model = KNeighborsClassifier(n_neighbors=5)
knn_model.fit(X_train, y_train)
y_pred = knn_model.predict(X_test)
plt.gray() 
print('Imagem de chute:')
plt.matshow(digits.images[5])
plt.show()
print('Taxa de acerto: ', accuracy_score(y_test, y_pred)*100, '%')